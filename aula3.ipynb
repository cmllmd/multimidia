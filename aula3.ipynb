{
 "cells": [
  {
   "cell_type": "markdown",
   "source": [
    "# Filtragems"
   ],
   "metadata": {}
  },
  {
   "cell_type": "code",
   "execution_count": null,
   "source": [
    "import cv2\n",
    "import matplotlib.pyplot as plt\n",
    "import numpy as np"
   ],
   "outputs": [],
   "metadata": {}
  },
  {
   "cell_type": "code",
   "execution_count": null,
   "source": [
    "# carregando a imagem\n",
    "img=cv2.imread(\"imagens/bicycle.png\",0)"
   ],
   "outputs": [],
   "metadata": {}
  },
  {
   "cell_type": "code",
   "execution_count": null,
   "source": [
    "# Filtro de Blur - Borra\n",
    "# operação Matricial\n",
    "img_blur = cv2.blur(img,(11,11))\n",
    "\n",
    "plt.figure()\n",
    "plt.title(\"Imagem Original\")\n",
    "plt.imshow(img,cmap=\"gray\")\n",
    "\n",
    "plt.figure()\n",
    "plt.title(\"Imagem Blur\")\n",
    "plt.imshow(img_blur,cmap=\"gray\")\n",
    "\n",
    "plt.show()\n",
    "\n",
    "\n",
    "\n",
    "\n"
   ],
   "outputs": [],
   "metadata": {}
  },
  {
   "cell_type": "code",
   "execution_count": null,
   "source": [
    "# Filtro de Blur - Borra\n",
    "# operação Com uma mediana\n",
    "img_MedianBlur = cv2.medianBlur(img,9)\n",
    "\n",
    "plt.figure()\n",
    "plt.title(\"Imagem Original\")\n",
    "plt.imshow(img,cmap=\"gray\")\n",
    "\n",
    "plt.figure()\n",
    "plt.title(\"Imagem Median Blur\")\n",
    "plt.imshow(img_MedianBlur,cmap=\"gray\")\n",
    "\n",
    "plt.show()\n"
   ],
   "outputs": [],
   "metadata": {}
  },
  {
   "cell_type": "code",
   "execution_count": null,
   "source": [
    "# Filtro de Bilateral\n",
    "# operação filtro bilateral\n",
    "img_bilateral = cv2.bilateralFilter(img,5,35,35)\n",
    "\n",
    "plt.figure()\n",
    "plt.title(\"Imagem Original\")\n",
    "plt.imshow(img,cmap=\"gray\")\n",
    "\n",
    "plt.figure()\n",
    "plt.title(\"Imagem Bilateral\")\n",
    "plt.imshow(img_bilateral,cmap=\"gray\")\n",
    "\n",
    "plt.show()"
   ],
   "outputs": [],
   "metadata": {}
  },
  {
   "cell_type": "markdown",
   "source": [
    "# Gaussiano"
   ],
   "metadata": {}
  },
  {
   "cell_type": "code",
   "execution_count": null,
   "source": [
    "# Filtro Gaussiano\n",
    "# operação filtro gaussino\n",
    "img_filter = cv2.GaussianBlur(img,(5,5),1)\n",
    "\n",
    "plt.figure()\n",
    "plt.title(\"Imagem Original\")\n",
    "plt.imshow(img,cmap=\"gray\")\n",
    "\n",
    "plt.figure()\n",
    "plt.title(\"Imagem Gaussino\")\n",
    "plt.imshow(img_filter,cmap=\"gray\")\n",
    "\n",
    "plt.show()"
   ],
   "outputs": [],
   "metadata": {}
  },
  {
   "cell_type": "markdown",
   "source": [
    "# Binarização de Imagens"
   ],
   "metadata": {}
  },
  {
   "cell_type": "code",
   "execution_count": null,
   "source": [
    "# carregando a imagem\n",
    "img=cv2.imread(\"imagens/lena.png\",0)"
   ],
   "outputs": [],
   "metadata": {}
  },
  {
   "cell_type": "code",
   "execution_count": null,
   "source": [
    "img_filter = cv2.GaussianBlur(img,(9,9),1)\n",
    "(bin, img_bin) = cv2.threshold(img_filter,140,255,cv2.THRESH_BINARY)\n",
    "\n",
    "(bin, img_bin2) = cv2.threshold(img,140,255,cv2.THRESH_BINARY)\n",
    "\n",
    "plt.figure()\n",
    "plt.title(\"Imagem Original\")\n",
    "plt.imshow(img,cmap=\"gray\")\n",
    "\n",
    "plt.figure()\n",
    "plt.title(\"Imagem com Gauss\")\n",
    "plt.imshow(img_bin,cmap=\"gray\")\n",
    "\n",
    "plt.figure()\n",
    "plt.title(\"Imagem sem Gauss\")\n",
    "plt.imshow(img_bin2,cmap=\"gray\")\n",
    "\n",
    "plt.show()"
   ],
   "outputs": [],
   "metadata": {}
  },
  {
   "cell_type": "markdown",
   "source": [
    "# Filtro Adaptativo"
   ],
   "metadata": {}
  },
  {
   "cell_type": "code",
   "execution_count": null,
   "source": [
    "binImg = cv2.adaptiveThreshold(img,255,cv2.ADAPTIVE_THRESH_MEAN_C, cv2.THRESH_BINARY,21,5)\n",
    "\n",
    "plt.figure()\n",
    "plt.title(\"Imagem Original\")\n",
    "plt.imshow(img,cmap=\"gray\")\n",
    "\n",
    "plt.figure()\n",
    "plt.title(\"Imagem Filtrada\")\n",
    "plt.imshow(binImg,cmap=\"gray\")\n",
    "\n",
    "plt.show()"
   ],
   "outputs": [],
   "metadata": {}
  },
  {
   "cell_type": "markdown",
   "source": [
    "# Segmentação de Imagens\n",
    "## Filtro de Sobel"
   ],
   "metadata": {}
  },
  {
   "cell_type": "code",
   "execution_count": null,
   "source": [
    "sobelx = cv2.Sobel(img, cv2.CV_64F,1,0)\n",
    "sobely = cv2.Sobel(img, cv2.CV_64F,0,1)\n",
    "sobelxy = cv2.Sobel(img, cv2.CV_64F,1,1)\n",
    "\n",
    "plt.figure()\n",
    "plt.title(\"Imagem Original\")\n",
    "plt.imshow(img,cmap=\"gray\")\n",
    "\n",
    "plt.figure()\n",
    "plt.title(\"Imagem Filtrada x\")\n",
    "plt.imshow(sobelx,cmap=\"gray\")\n",
    "\n",
    "plt.figure()\n",
    "plt.title(\"Imagem Filtrada y\")\n",
    "plt.imshow(sobely,cmap=\"gray\")\n",
    "\n",
    "plt.figure()\n",
    "plt.title(\"Imagem Filtrada xy\")\n",
    "plt.imshow(sobelxy,cmap=\"gray\")\n",
    "\n",
    "plt.show()"
   ],
   "outputs": [],
   "metadata": {}
  },
  {
   "cell_type": "markdown",
   "source": [
    "## Laplaciano"
   ],
   "metadata": {}
  },
  {
   "cell_type": "code",
   "execution_count": null,
   "source": [
    "img_laplace = cv2.Laplacian(img, cv2.CV_64F)\n",
    "\n",
    "img_laplace = np.uint8(np.absolute(img_laplace))\n",
    "plt.figure()\n",
    "plt.title(\"Imagem Original\")\n",
    "plt.imshow(img,cmap=\"gray\")\n",
    "\n",
    "plt.figure()\n",
    "plt.title(\"Imagem Filtrada\")\n",
    "plt.imshow(img_laplace,cmap=\"gray\")\n",
    "\n",
    "plt.show()"
   ],
   "outputs": [],
   "metadata": {}
  },
  {
   "cell_type": "markdown",
   "source": [
    "## Canny"
   ],
   "metadata": {}
  },
  {
   "cell_type": "code",
   "execution_count": null,
   "source": [
    "img_canny = cv2.Canny(img,50,100)\n",
    "\n",
    "plt.figure()\n",
    "plt.title(\"Imagem Original\")\n",
    "plt.imshow(img,cmap=\"gray\")\n",
    "\n",
    "plt.figure()\n",
    "plt.title(\"Imagem Filtrada\")\n",
    "plt.imshow(img_canny,cmap=\"gray\")\n",
    "\n",
    "plt.show()"
   ],
   "outputs": [],
   "metadata": {}
  }
 ],
 "metadata": {
  "orig_nbformat": 4,
  "language_info": {
   "name": "python",
   "version": "3.8.8",
   "mimetype": "text/x-python",
   "codemirror_mode": {
    "name": "ipython",
    "version": 3
   },
   "pygments_lexer": "ipython3",
   "nbconvert_exporter": "python",
   "file_extension": ".py"
  },
  "kernelspec": {
   "name": "python3",
   "display_name": "Python 3.8.8 64-bit"
  },
  "interpreter": {
   "hash": "4df5cc9119aadfdfa6b0495a2404c8e1a892cf5e630e38621995e3241a0747b6"
  }
 },
 "nbformat": 4,
 "nbformat_minor": 2
}