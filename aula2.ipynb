{
 "cells": [
  {
   "cell_type": "code",
   "execution_count": null,
   "source": [
    "import cv2\n",
    "import matplotlib.pyplot as plt"
   ],
   "outputs": [],
   "metadata": {}
  },
  {
   "cell_type": "code",
   "execution_count": null,
   "source": [
    "img = cv2.imread(\"imagens/bicycle.png\") #carregando a imagem\n",
    "\n",
    "imgGray = cv2.cvtColor(img, cv2.COLOR_BGR2GRAY) #carregando a imagem em escala cinza"
   ],
   "outputs": [],
   "metadata": {}
  },
  {
   "cell_type": "code",
   "execution_count": null,
   "source": [
    "cv2.imshow(\"Imagem gray\", imgGray)\n",
    "cv2.waitKey(0)\n",
    "cv2.destroyAllWindows()"
   ],
   "outputs": [],
   "metadata": {}
  },
  {
   "cell_type": "code",
   "execution_count": null,
   "source": [
    "imgGray.shape"
   ],
   "outputs": [],
   "metadata": {}
  },
  {
   "cell_type": "code",
   "execution_count": null,
   "source": [
    "hist = cv2.calcHist([imgGray], [0], None, [256], [0, 256])\n",
    "# 256 = 0 a 255; faixa de dados das cores"
   ],
   "outputs": [],
   "metadata": {}
  },
  {
   "cell_type": "code",
   "execution_count": null,
   "source": [
    "#Rotina para apresentar o gráfico\n",
    "plt.figure()\n",
    "plt.axis(\"off\")\n",
    "plt.imshow(imgGray,cmap=plt.gray())"
   ],
   "outputs": [],
   "metadata": {}
  },
  {
   "cell_type": "code",
   "execution_count": null,
   "source": [
    "plt.figure()\n",
    "plt.title(\"Histograma de imagem\")\n",
    "plt.xlabel(\"Bins\")\n",
    "plt.ylabel(\"N de Pixel\")\n",
    "plt.plot(hist)\n",
    "plt.xlim([0,256])"
   ],
   "outputs": [],
   "metadata": {}
  },
  {
   "cell_type": "markdown",
   "source": [
    "# Criar histograma para imagens coloridas"
   ],
   "metadata": {}
  },
  {
   "cell_type": "code",
   "execution_count": null,
   "source": [
    "img2 = cv2.imread(\"imagens/fruit.png\")\n",
    "cv2.imshow(\"Imagem Color\", img2)\n",
    "cv2.waitKey(0)\n",
    "cv2.destroyAllWindows()"
   ],
   "outputs": [],
   "metadata": {}
  },
  {
   "cell_type": "code",
   "execution_count": null,
   "source": [
    "chans = cv2.split(img2)\n",
    "colors = (\"b\", \"g\", \"r\")\n",
    "plt.figure()\n",
    "plt.title(\"histograma de cores da imagem\")\n",
    "plt.xlabel(\"Bins\")\n",
    "plt.ylabel(\"N de Pixel\")\n",
    "\n",
    "# Loop sobre os canais da imagem\n",
    "for(chan, color) in zip(chans,colors):\n",
    "    #Calculando o histograma\n",
    "    hist = cv2.calcHist([chan], [0], None, [256], [0, 256])\n",
    "    plt.plot(hist,color=color)\n",
    "    plt.xlim([0,256])\n",
    "\n"
   ],
   "outputs": [],
   "metadata": {}
  }
 ],
 "metadata": {
  "orig_nbformat": 4,
  "language_info": {
   "name": "python",
   "version": "3.8.8",
   "mimetype": "text/x-python",
   "codemirror_mode": {
    "name": "ipython",
    "version": 3
   },
   "pygments_lexer": "ipython3",
   "nbconvert_exporter": "python",
   "file_extension": ".py"
  },
  "kernelspec": {
   "name": "python3",
   "display_name": "Python 3.8.8 64-bit"
  },
  "interpreter": {
   "hash": "9414a5e22e9acc1fb1228e0d11974532088d806ae98b60eacfb8ff7d060356ef"
  }
 },
 "nbformat": 4,
 "nbformat_minor": 2
}