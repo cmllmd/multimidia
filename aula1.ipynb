{
    "cells": [
        {
            "cell_type": "markdown",
            "source": [
                "<h2>Aula básica sobre o opencv e o processamento de images</h2>"
            ],
            "metadata": {}
        },
        {
            "cell_type": "code",
            "execution_count": null,
            "source": [
                "# Primeiro ola mundo!\n",
                "import cv2\n",
                "import numpy as np\n",
                "import matplotlib.pyplot as plt"
            ],
            "outputs": [],
            "metadata": {}
        },
        {
            "cell_type": "code",
            "execution_count": null,
            "source": [
                "# Carredo uma imagem\n",
                "img = cv2.imread(\"imagens/fall-leaves.png\")\n"
            ],
            "outputs": [],
            "metadata": {}
        },
        {
            "cell_type": "code",
            "execution_count": null,
            "source": [
                "# mostrado a imagem\n",
                "cv2.imshow(\"Ola Mundo!\",img)\n",
                "cv2.waitKey(0)\n",
                "cv2.destroyAllWindows()"
            ],
            "outputs": [],
            "metadata": {}
        },
        {
            "cell_type": "code",
            "execution_count": null,
            "source": [
                "#Escalas de cor\n",
                "# RGB -> tres canais\n",
                "# R -> red\n",
                "# G -> Green\n",
                "# B -> Blue\n",
                "(B,G,R)=cv2.split(img)"
            ],
            "outputs": [],
            "metadata": {}
        },
        {
            "cell_type": "code",
            "execution_count": null,
            "source": [
                "zeros = np.zeros(img.shape[:2],dtype=\"uint8\")\n",
                "cv2.imshow(\"Red\",cv2.merge([zeros,zeros,R]))\n",
                "cv2.imshow(\"Green\",cv2.merge([zeros,G,zeros]))\n",
                "cv2.imshow(\"Azul\",cv2.merge([B,zeros,zeros]))\n",
                "cv2.imshow(\"Ola Mundo!\",img)\n",
                "cv2.waitKey(0)\n",
                "cv2.destroyAllWindows()"
            ],
            "outputs": [],
            "metadata": {}
        },
        {
            "cell_type": "code",
            "execution_count": null,
            "source": [
                "# Salvando uma imagem\n",
                "cv2.imwrite(\"fallBlue.png\",cv2.merge([B,zeros,zeros]))"
            ],
            "outputs": [],
            "metadata": {}
        },
        {
            "cell_type": "code",
            "execution_count": null,
            "source": [
                "# Uma importante operação - Converter em escala cinza\n",
                "grayimage=cv2.imread(\"imagens/fall-leaves.png\",0)\n",
                "cv2.imshow(\"Ola Mundo!\",grayimage)\n",
                "cv2.waitKey(0)\n",
                "cv2.destroyAllWindows()\n"
            ],
            "outputs": [],
            "metadata": {}
        },
        {
            "cell_type": "code",
            "execution_count": null,
            "source": [
                "# Carregando videos\n",
                "cap=cv2.VideoCapture('video/ants1.mp4')\n",
                "\n",
                "# verificar se o video foi carregado corretamente\n",
                "if(cap.isOpened()==False):\n",
                "    print(\"Erro no carregamento\")\n",
                "\n",
                "while True:\n",
                "    # Captura do frame\n",
                "    ret,frame=cap.read()\n",
                "    if ret == True:\n",
                "        # converter o frame em escala cinza\n",
                "        frame=cv2.cvtColor(frame,cv2.COLOR_BGR2GRAY)\n",
                "        cv2.imshow(\"Olá mundo Video\",frame)\n",
                "        \n",
                "        if cv2.waitKey(25) & 0xFF == ord('q'):\n",
                "            break\n",
                "    \n",
                "cap.release()\n",
                "cv2.destroyAllWindows()\n"
            ],
            "outputs": [],
            "metadata": {}
        },
        {
            "cell_type": "code",
            "execution_count": null,
            "source": [],
            "outputs": [],
            "metadata": {}
        }
    ],
    "metadata": {
        "orig_nbformat": 4,
        "language_info": {
            "name": "python",
            "version": "3.8.8",
            "mimetype": "text/x-python",
            "codemirror_mode": {
                "name": "ipython",
                "version": 3
            },
            "pygments_lexer": "ipython3",
            "nbconvert_exporter": "python",
            "file_extension": ".py"
        },
        "kernelspec": {
            "name": "python3",
            "display_name": "Python 3.8.8 64-bit ('base': conda)"
        },
        "interpreter": {
            "hash": "22d38fa0cb949c4d83b127034afdff90d77a7338f5681221558c482c7c131893"
        }
    },
    "nbformat": 4,
    "nbformat_minor": 2
}