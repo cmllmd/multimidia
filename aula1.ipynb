{
    "cells": [
        {
            "cell_type": "markdown",
            "source": [
                "<h2>Aula básica sobre o opencv e o processamento de images</h2>"
            ],
            "metadata": {}
        },
        {
            "cell_type": "code",
            "execution_count": 1,
            "source": [
                "# Primeiro ola mundo!\r\n",
                "import cv2\r\n",
                "import numpy as np\r\n",
                "import matplotlib.pyplot as plt"
            ],
            "outputs": [],
            "metadata": {}
        },
        {
            "cell_type": "code",
            "execution_count": 8,
            "source": [
                "# Carredo uma imagem\r\n",
                "img = cv2.imread(\"imagens/fall-leaves.png\")\r\n"
            ],
            "outputs": [],
            "metadata": {}
        },
        {
            "cell_type": "code",
            "execution_count": 9,
            "source": [
                "# mostrado a imagem\r\n",
                "cv2.imshow(\"Ola Mundo!\",img)\r\n",
                "cv2.waitKey(0)\r\n",
                "cv2.destroyAllWindows()"
            ],
            "outputs": [],
            "metadata": {}
        },
        {
            "cell_type": "code",
            "execution_count": 16,
            "source": [
                "#Escalas de cor\r\n",
                "# RGB -> tres canais\r\n",
                "# R -> red\r\n",
                "# G -> Green\r\n",
                "# B -> Blue\r\n",
                "(B,G,R)=cv2.split(img)"
            ],
            "outputs": [],
            "metadata": {}
        },
        {
            "cell_type": "code",
            "execution_count": 17,
            "source": [
                "zeros = np.zeros(img.shape[:2],dtype=\"uint8\")\r\n",
                "cv2.imshow(\"Red\",cv2.merge([zeros,zeros,R]))\r\n",
                "cv2.imshow(\"Green\",cv2.merge([zeros,G,zeros]))\r\n",
                "cv2.imshow(\"Azul\",cv2.merge([B,zeros,zeros]))\r\n",
                "cv2.imshow(\"Ola Mundo!\",img)\r\n",
                "cv2.waitKey(0)\r\n",
                "cv2.destroyAllWindows()"
            ],
            "outputs": [],
            "metadata": {}
        },
        {
            "cell_type": "code",
            "execution_count": 18,
            "source": [
                "# Salvando uma imagem\r\n",
                "cv2.imwrite(\"fallBlue.png\",cv2.merge([B,zeros,zeros]))"
            ],
            "outputs": [
                {
                    "output_type": "execute_result",
                    "data": {
                        "text/plain": [
                            "True"
                        ]
                    },
                    "metadata": {},
                    "execution_count": 18
                }
            ],
            "metadata": {}
        },
        {
            "cell_type": "code",
            "execution_count": 19,
            "source": [
                "# Uma importante operação - Converter em escala cinza\r\n",
                "grayimage=cv2.imread(\"imagens/fall-leaves.png\",0)\r\n",
                "cv2.imshow(\"Ola Mundo!\",grayimage)\r\n",
                "cv2.waitKey(0)\r\n",
                "cv2.destroyAllWindows()\r\n"
            ],
            "outputs": [],
            "metadata": {}
        },
        {
            "cell_type": "code",
            "execution_count": 25,
            "source": [
                "# Carregando videos\r\n",
                "cap=cv2.VideoCapture('video/ants1.mp4')\r\n",
                "\r\n",
                "# verificar se o video foi carregado corretamente\r\n",
                "if(cap.isOpened()==False):\r\n",
                "    print(\"Erro no carregamento\")\r\n",
                "\r\n",
                "while True:\r\n",
                "    # Captura do frame\r\n",
                "    ret,frame=cap.read()\r\n",
                "    if ret == True:\r\n",
                "        # converter o frame em escala cinza\r\n",
                "        frame=cv2.cvtColor(frame,cv2.COLOR_BGR2GRAY)\r\n",
                "        cv2.imshow(\"Olá mundo Video\",frame)\r\n",
                "        \r\n",
                "        if cv2.waitKey(25) & 0xFF == ord('q'):\r\n",
                "            break\r\n",
                "    \r\n",
                "cap.release()\r\n",
                "cv2.destroyAllWindows()\r\n"
            ],
            "outputs": [],
            "metadata": {}
        },
        {
            "cell_type": "code",
            "execution_count": null,
            "source": [],
            "outputs": [],
            "metadata": {}
        }
    ],
    "metadata": {
        "orig_nbformat": 4,
        "language_info": {
            "name": "python",
            "version": "3.8.8",
            "mimetype": "text/x-python",
            "codemirror_mode": {
                "name": "ipython",
                "version": 3
            },
            "pygments_lexer": "ipython3",
            "nbconvert_exporter": "python",
            "file_extension": ".py"
        },
        "kernelspec": {
            "name": "python3",
            "display_name": "Python 3.8.8 64-bit ('base': conda)"
        },
        "interpreter": {
            "hash": "22d38fa0cb949c4d83b127034afdff90d77a7338f5681221558c482c7c131893"
        }
    },
    "nbformat": 4,
    "nbformat_minor": 2
}